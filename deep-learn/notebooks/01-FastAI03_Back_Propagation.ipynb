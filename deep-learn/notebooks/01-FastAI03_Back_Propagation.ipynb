{
 "cells": [
  {
   "cell_type": "markdown",
   "id": "b2086987-1ed5-4975-852d-86be0a810340",
   "metadata": {},
   "source": [
    "# The Forward and Backward Passes"
   ]
  },
  {
   "cell_type": "markdown",
   "id": "3dae8f43-cd36-482c-ad26-4e9daa53ffff",
   "metadata": {},
   "source": [
    "The MINST data file `minst.pkl.gz` can be found at https://www.kaggle.com/datasets/pablotab/mnistpklgz"
   ]
  },
  {
   "cell_type": "code",
   "execution_count": 39,
   "id": "6bd02a87-dcfb-47ac-8171-65eff7c48a43",
   "metadata": {},
   "outputs": [],
   "source": [
    "import pickle, gzip, math, os, time, shutil, matplotlib as mpl, numpy as np\n",
    "import matplotlib.pyplot as plt\n",
    "from pathlib import Path\n",
    "import torch\n",
    "from torch import tensor\n",
    "from fastcore.test import test_close\n",
    "# torch.manual_seed(42)\n",
    "\n",
    "mpl.rcParams['image.cmap'] = 'gray'\n",
    "\n",
    "torch.set_printoptions(precision=2, linewidth=125, sci_mode=False)\n",
    "np.set_printoptions(precision=2, linewidth=125)\n",
    "\n",
    "path_data = Path('/home/yzhao/data')\n",
    "path_gz = path_data / 'mnist.pkl.gz'\n",
    "with gzip.open(path_gz, 'rb') as f: ((x_train, y_train), (x_valid, y_valid), _) = pickle.load(f, encoding='latin-1')\n",
    "x_train, y_train, x_valid, y_valid = map(tensor, [x_train, y_train, x_valid, y_valid])"
   ]
  },
  {
   "cell_type": "markdown",
   "id": "7be55ce2-e3ff-4822-8c06-1e09328a8890",
   "metadata": {},
   "source": [
    "## Plot Images with matplotlib\n",
    "\n",
    "We can use `matplotlib.pyplot.imshow` to show these handwritten digits as heatmap images."
   ]
  },
  {
   "cell_type": "markdown",
   "id": "4e74e095-69ca-495d-b0de-4da308277b03",
   "metadata": {},
   "source": [
    "To plot one figure to see its content:"
   ]
  },
  {
   "cell_type": "code",
   "execution_count": 102,
   "id": "16a50951-b3bf-496b-b95e-2c2bfd6828a2",
   "metadata": {},
   "outputs": [
    {
     "data": {
      "text/plain": [
       "<matplotlib.image.AxesImage at 0x7fd4782c3b80>"
      ]
     },
     "execution_count": 102,
     "metadata": {},
     "output_type": "execute_result"
    },
    {
     "data": {
      "image/png": "[encoded data removed]",
      "text/plain": [
       "<Figure size 640x480 with 1 Axes>"
      ]
     },
     "metadata": {},
     "output_type": "display_data"
    }
   ],
   "source": [
    "img = x_train[0,:].reshape(28, 28).numpy()\n",
    "plt.imshow(img, cmap='hot', interpolation='none')"
   ]
  },
  {
   "cell_type": "markdown",
   "id": "0682c9a6-c763-4576-94ba-ffc9dc186a58",
   "metadata": {},
   "source": [
    "To plot multiple figures:"
   ]
  },
  {
   "cell_type": "code",
   "execution_count": 103,
   "id": "7576d362-fc36-47d5-9bce-88ba70ed6bc3",
   "metadata": {},
   "outputs": [
    {
     "data": {
      "text/plain": [
       "<matplotlib.image.AxesImage at 0x7fd4794756c0>"
      ]
     },
     "execution_count": 103,
     "metadata": {},
     "output_type": "execute_result"
    },
    {
     "data": {
      "image/png": "[encoded data removed]",
      "text/plain": [
       "<Figure size 640x480 with 1 Axes>"
      ]
     },
     "metadata": {},
     "output_type": "display_data"
    }
   ],
   "source": [
    "img1 = x_train[0,:].reshape(28, 28).numpy()\n",
    "img2 = x_train[1,:].reshape(28, 28).numpy()\n",
    "img3 = x_train[2,:].reshape(28, 28).numpy()\n",
    "img4 = x_train[3,:].reshape(28, 28).numpy()\n",
    "plt.imshow(np.hstack([img1, img2, img3, img4]), cmap='hot', interpolation='none')"
   ]
  },
  {
   "cell_type": "markdown",
   "id": "01569f83-c38c-4b5c-add1-a13811843afb",
   "metadata": {},
   "source": [
    "Or more generically"
   ]
  },
  {
   "cell_type": "code",
   "execution_count": 107,
   "id": "80f279eb-d42c-41c4-85e2-0290929f2a3c",
   "metadata": {},
   "outputs": [
    {
     "data": {
      "text/plain": [
       "<matplotlib.image.AxesImage at 0x7fd477ab9a80>"
      ]
     },
     "execution_count": 107,
     "metadata": {},
     "output_type": "execute_result"
    },
    {
     "data": {
      "image/png": "[encoded data removed]",
      "text/plain": [
       "<Figure size 640x480 with 1 Axes>"
      ]
     },
     "metadata": {},
     "output_type": "display_data"
    }
   ],
   "source": [
    "sz = 4\n",
    "sample_idx = np.random.randint((x_train.size(0)), size=sz)\n",
    "images = x_train[sample_idx, :].reshape(sz, 28, 28)\n",
    "images = np.hstack([x.squeeze(0).numpy() for x in torch.split(images, 1)])\n",
    "plt.imshow(images, cmap='hot', interpolation='none')"
   ]
  },
  {
   "cell_type": "markdown",
   "id": "2c093f61-7ab1-47a7-97dd-dcd1dfffaa76",
   "metadata": {},
   "source": [
    "## Building a Simple Neural Net"
   ]
  },
  {
   "cell_type": "code",
   "execution_count": 111,
   "id": "c0b627b2-d4c7-4e64-97bc-1145e72c1f08",
   "metadata": {},
   "outputs": [
    {
     "data": {
      "text/plain": [
       "(50000, 784, tensor(10))"
      ]
     },
     "execution_count": 111,
     "metadata": {},
     "output_type": "execute_result"
    }
   ],
   "source": [
    "n, m = x_train.shape\n",
    "c = y_train.max() + 1\n",
    "n, m, c"
   ]
  },
  {
   "cell_type": "code",
   "execution_count": 112,
   "id": "d163b512-c387-4026-b187-13cfc4e0c65f",
   "metadata": {},
   "outputs": [],
   "source": [
    "# num hidden \n",
    "nh = 50"
   ]
  },
  {
   "cell_type": "code",
   "execution_count": 113,
   "id": "549b31f3-4fba-4196-ad85-4d1f3b526f2a",
   "metadata": {},
   "outputs": [],
   "source": [
    "w1 = torch.randn(m, nh)\n",
    "b1 = torch.zeros(nh)\n",
    "w2 = torch.rand(nh, 1)\n",
    "b2 = torch.zeros(1)"
   ]
  },
  {
   "cell_type": "code",
   "execution_count": 126,
   "id": "522f2a04-cde7-4cf2-94a9-a91af5df5cc2",
   "metadata": {},
   "outputs": [],
   "source": [
    "def lin(x, w, b): return x @ w + b\n",
    "def relu(x): return x.clamp_min(0.)"
   ]
  },
  {
   "cell_type": "code",
   "execution_count": 127,
   "id": "9883bd1f-8ed7-498a-9572-de9694b83d78",
   "metadata": {},
   "outputs": [
    {
     "data": {
      "text/plain": [
       "torch.Size([10000, 50])"
      ]
     },
     "execution_count": 127,
     "metadata": {},
     "output_type": "execute_result"
    }
   ],
   "source": [
    "t = lin(x_valid, w1, b1)\n",
    "t.shape"
   ]
  },
  {
   "cell_type": "code",
   "execution_count": 132,
   "id": "5cf9ae08-3333-4694-b71b-8b15974441a4",
   "metadata": {},
   "outputs": [
    {
     "data": {
      "text/plain": [
       "torch.Size([50000, 1])"
      ]
     },
     "execution_count": 132,
     "metadata": {},
     "output_type": "execute_result"
    }
   ],
   "source": [
    "def model(xb): \n",
    "    l1 = lin(xb, w1, b1)\n",
    "    l2 = relu(l1)\n",
    "    return lin(l2, w2, b2)\n",
    "\n",
    "model(x_train).shape"
   ]
  },
  {
   "cell_type": "markdown",
   "id": "85f3defe-ed29-45c5-86e1-2f9018bc024f",
   "metadata": {},
   "source": [
    "### Loss Function: MSE"
   ]
  },
  {
   "cell_type": "code",
   "execution_count": 133,
   "id": "653329d4-3ee9-41a6-a0f5-5a3bd4c4672f",
   "metadata": {},
   "outputs": [
    {
     "data": {
      "text/plain": [
       "(torch.Size([10000, 1]), torch.Size([10000]))"
      ]
     },
     "execution_count": 133,
     "metadata": {},
     "output_type": "execute_result"
    }
   ],
   "source": [
    "res = model(x_valid)\n",
    "res.shape, y_valid.shape"
   ]
  },
  {
   "cell_type": "code",
   "execution_count": 139,
   "id": "095447f0-996f-4b54-b621-75e58441dc77",
   "metadata": {},
   "outputs": [
    {
     "data": {
      "text/plain": [
       "(torch.Size([10000]), torch.Size([10000]))"
      ]
     },
     "execution_count": 139,
     "metadata": {},
     "output_type": "execute_result"
    }
   ],
   "source": [
    "res[:, 0].shape, y_valid.shape"
   ]
  },
  {
   "cell_type": "code",
   "execution_count": 140,
   "id": "668004b3-9c0e-4821-871d-3bf1679a1c75",
   "metadata": {},
   "outputs": [],
   "source": [
    "def mse(output, targ): return (output[:,0] - targ).pow(2).mean()"
   ]
  },
  {
   "cell_type": "code",
   "execution_count": 141,
   "id": "04e10715-2ea4-430a-9fec-e16b3ecc47fb",
   "metadata": {},
   "outputs": [
    {
     "data": {
      "text/plain": [
       "tensor(3769.66)"
      ]
     },
     "execution_count": 141,
     "metadata": {},
     "output_type": "execute_result"
    }
   ],
   "source": [
    "mse(model(x_train), y_train)"
   ]
  },
  {
   "cell_type": "markdown",
   "id": "3dd30ece-c104-44a3-98b4-42a223f9f012",
   "metadata": {},
   "source": [
    "### Gradient and the Backward pass"
   ]
  },
  {
   "cell_type": "code",
   "execution_count": 143,
   "id": "d331d095-5996-4d43-b3f6-e853c0c85ddb",
   "metadata": {},
   "outputs": [
    {
     "data": {
      "text/latex": [
       "$\\displaystyle 2 x$"
      ],
      "text/plain": [
       "2*x"
      ]
     },
     "execution_count": 143,
     "metadata": {},
     "output_type": "execute_result"
    }
   ],
   "source": [
    "from sympy import symbols, diff\n",
    "x, y = symbols('x y')\n",
    "diff(x**2, x)"
   ]
  },
  {
   "cell_type": "code",
   "execution_count": 144,
   "id": "6ecec32d-1776-439d-897d-235ddc1624be",
   "metadata": {},
   "outputs": [
    {
     "data": {
      "text/latex": [
       "$\\displaystyle 6 x$"
      ],
      "text/plain": [
       "6*x"
      ]
     },
     "execution_count": 144,
     "metadata": {},
     "output_type": "execute_result"
    }
   ],
   "source": [
    "diff(3*x**2 + 9, x)"
   ]
  },
  {
   "cell_type": "markdown",
   "id": "f0417e60-8fa2-48c2-9ff0-d60e5ba30ec3",
   "metadata": {},
   "source": [
    "<img src=\"https://raw.githubusercontent.com/Climbo-Dev/climbo-code-samples/main/images/param_grad_n_chain_rule_explained.png\" width=\"400\">"
   ]
  },
  {
   "cell_type": "code",
   "execution_count": 145,
   "id": "064446c3-6ac1-4124-b803-a570707e3e5e",
   "metadata": {},
   "outputs": [],
   "source": [
    "def lin_grad(inp, out, w, b):\n",
    "    # grad of matmul with respect to input\n",
    "    inp.g = out.g @ w.t()\n",
    "    w.g = (inp.unsqueeze(-1) * out.g.unsqueeze(1)).sum(0)\n",
    "    b.g = out.g.sum(0)"
   ]
  },
  {
   "cell_type": "code",
   "execution_count": 155,
   "id": "9389776b-12eb-41ef-951a-bd7b1b18d7da",
   "metadata": {},
   "outputs": [
    {
     "data": {
      "text/plain": [
       "(torch.Size([2, 3]),\n",
       " torch.Size([2, 3, 1]),\n",
       " torch.Size([1, 2, 3]),\n",
       " torch.Size([2, 1, 3]))"
      ]
     },
     "execution_count": 155,
     "metadata": {},
     "output_type": "execute_result"
    }
   ],
   "source": [
    "x = tensor([[1,2,3],[4,5,6]])\n",
    "x.size(), x.unsqueeze(-1).size(), x.unsqueeze(0).size(), x.unsqueeze(1).size()"
   ]
  },
  {
   "cell_type": "code",
   "execution_count": null,
   "id": "dca2a7ee-21ef-4100-bcdb-15674559789d",
   "metadata": {},
   "outputs": [],
   "source": []
  }
 ],
 "metadata": {
  "kernelspec": {
   "display_name": "Python 3 (ipykernel)",
   "language": "python",
   "name": "python3"
  },
  "language_info": {
   "codemirror_mode": {
    "name": "ipython",
    "version": 3
   },
   "file_extension": ".py",
   "mimetype": "text/x-python",
   "name": "python",
   "nbconvert_exporter": "python",
   "pygments_lexer": "ipython3",
   "version": "3.10.10"
  }
 },
 "nbformat": 4,
 "nbformat_minor": 5
}
