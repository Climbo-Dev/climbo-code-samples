{
 "cells": [
  {
   "cell_type": "markdown",
   "id": "3652785a-cdab-42c1-9994-624720b8636d",
   "metadata": {},
   "source": [
    "# Exploratory Data Analysis for IMDB Movie Review Data"
   ]
  },
  {
   "cell_type": "code",
   "execution_count": 27,
   "id": "91d23279-2c13-48cb-b3ff-8745ce2acb3e",
   "metadata": {},
   "outputs": [
    {
     "data": {
      "text/plain": [
       "pathlib.PosixPath"
      ]
     },
     "execution_count": 27,
     "metadata": {},
     "output_type": "execute_result"
    }
   ],
   "source": [
    "import pandas as pd\n",
    "from fastai.data.external import fastai_cfg, URLs, untar_data\n",
    "\n",
    "imdb_path = untar_data(URLs.IMDB)\n",
    "imdb_sample_path = untar_data(URLs.IMDB_SAMPLE)"
   ]
  },
  {
   "cell_type": "code",
   "execution_count": 49,
   "id": "92060b3c-9eb9-4aaf-a01e-cd6e788c2f17",
   "metadata": {},
   "outputs": [
    {
     "name": "stdout",
     "output_type": "stream",
     "text": [
      "/home/yzhao/.fastai/data/imdb/README\n",
      "/home/yzhao/.fastai/data/imdb/test\n",
      ".. /home/yzhao/.fastai/data/imdb/test/pos\n",
      ".. /home/yzhao/.fastai/data/imdb/test/neg\n",
      ".. /home/yzhao/.fastai/data/imdb/test/labeledBow.feat\n",
      "/home/yzhao/.fastai/data/imdb/unsup\n",
      ".. /home/yzhao/.fastai/data/imdb/unsup/35167_0.txt\n",
      ".. /home/yzhao/.fastai/data/imdb/unsup/45392_0.txt\n",
      ".. /home/yzhao/.fastai/data/imdb/unsup/10591_0.txt\n",
      "/home/yzhao/.fastai/data/imdb/imdb.vocab\n",
      "/home/yzhao/.fastai/data/imdb/tmp_lm\n",
      ".. /home/yzhao/.fastai/data/imdb/tmp_lm/itos.pkl\n",
      ".. /home/yzhao/.fastai/data/imdb/tmp_lm/train_ids.npy\n",
      ".. /home/yzhao/.fastai/data/imdb/tmp_lm/train_lbl.npy\n",
      "/home/yzhao/.fastai/data/imdb/train\n",
      ".. /home/yzhao/.fastai/data/imdb/train/pos\n",
      ".. /home/yzhao/.fastai/data/imdb/train/unsupBow.feat\n",
      ".. /home/yzhao/.fastai/data/imdb/train/neg\n",
      "/home/yzhao/.fastai/data/imdb/tmp_clas\n",
      ".. /home/yzhao/.fastai/data/imdb/tmp_clas/itos.pkl\n",
      ".. /home/yzhao/.fastai/data/imdb/tmp_clas/train_ids.npy\n",
      ".. /home/yzhao/.fastai/data/imdb/tmp_clas/train_lbl.npy\n"
     ]
    }
   ],
   "source": [
    "from itertools import islice\n",
    "for x in imdb_path.ls(): \n",
    "    print(x)\n",
    "    if x.is_dir():\n",
    "        for s in islice(x.ls(), 3):\n",
    "            print(f\".. {s}\")"
   ]
  },
  {
   "cell_type": "code",
   "execution_count": 45,
   "id": "1f51346b-fbf9-49ed-8b78-9fd599fdc99c",
   "metadata": {},
   "outputs": [
    {
     "name": "stdout",
     "output_type": "stream",
     "text": [
      "/home/yzhao/.fastai/data/imdb_sample/texts.csv\n"
     ]
    }
   ],
   "source": [
    "for x in imdb_sample_path.ls(): print(x)"
   ]
  },
  {
   "cell_type": "code",
   "execution_count": 7,
   "id": "572733ca-5766-4b8e-a608-286393f33252",
   "metadata": {},
   "outputs": [
    {
     "data": {
      "text/html": [
       "<div>\n",
       "<style scoped>\n",
       "    .dataframe tbody tr th:only-of-type {\n",
       "        vertical-align: middle;\n",
       "    }\n",
       "\n",
       "    .dataframe tbody tr th {\n",
       "        vertical-align: top;\n",
       "    }\n",
       "\n",
       "    .dataframe thead th {\n",
       "        text-align: right;\n",
       "    }\n",
       "</style>\n",
       "<table border=\"1\" class=\"dataframe\">\n",
       "  <thead>\n",
       "    <tr style=\"text-align: right;\">\n",
       "      <th></th>\n",
       "      <th>label</th>\n",
       "      <th>text</th>\n",
       "      <th>is_valid</th>\n",
       "    </tr>\n",
       "  </thead>\n",
       "  <tbody>\n",
       "    <tr>\n",
       "      <th>0</th>\n",
       "      <td>negative</td>\n",
       "      <td>Un-bleeping-believable! Meg Ryan doesn't even look her usual pert lovable self in this, which normally makes me forgive her shallow ticky acting schtick. Hard to believe she was the producer on this dog. Plus Kevin Kline: what kind of suicide trip has his career been on? Whoosh... Banzai!!! Finally this was directed by the guy who did Big Chill? Must be a replay of Jonestown - hollywood style. Wooofff!</td>\n",
       "      <td>False</td>\n",
       "    </tr>\n",
       "    <tr>\n",
       "      <th>1</th>\n",
       "      <td>positive</td>\n",
       "      <td>This is a extremely well-made film. The acting, script and camera-work are all first-rate. The music is good, too, though it is mostly early in the film, when things are still relatively cheery. There are no really superstars in the cast, though several faces will be familiar. The entire cast does an excellent job with the script.&lt;br /&gt;&lt;br /&gt;But it is hard to watch, because there is no good end to a situation like the one presented. It is now fashionable to blame the British for setting Hindus and Muslims against each other, and then cruelly separating them into two countries. There is som...</td>\n",
       "      <td>False</td>\n",
       "    </tr>\n",
       "    <tr>\n",
       "      <th>2</th>\n",
       "      <td>negative</td>\n",
       "      <td>Every once in a long while a movie will come along that will be so awful that I feel compelled to warn people. If I labor all my days and I can save but one soul from watching this movie, how great will be my joy.&lt;br /&gt;&lt;br /&gt;Where to begin my discussion of pain. For starters, there was a musical montage every five minutes. There was no character development. Every character was a stereotype. We had swearing guy, fat guy who eats donuts, goofy foreign guy, etc. The script felt as if it were being written as the movie was being shot. The production value was so incredibly low that it felt li...</td>\n",
       "      <td>False</td>\n",
       "    </tr>\n",
       "    <tr>\n",
       "      <th>3</th>\n",
       "      <td>positive</td>\n",
       "      <td>Name just says it all. I watched this movie with my dad when it came out and having served in Korea he had great admiration for the man. The disappointing thing about this film is that it only concentrate on a short period of the man's life - interestingly enough the man's entire life would have made such an epic bio-pic that it is staggering to imagine the cost for production.&lt;br /&gt;&lt;br /&gt;Some posters elude to the flawed characteristics about the man, which are cheap shots. The theme of the movie \"Duty, Honor, Country\" are not just mere words blathered from the lips of a high-brassed offic...</td>\n",
       "      <td>False</td>\n",
       "    </tr>\n",
       "    <tr>\n",
       "      <th>4</th>\n",
       "      <td>negative</td>\n",
       "      <td>This movie succeeds at being one of the most unique movies you've seen. However this comes from the fact that you can't make heads or tails of this mess. It almost seems as a series of challenges set up to determine whether or not you are willing to walk out of the movie and give up the money you just paid. If you don't want to feel slighted you'll sit through this horrible film and develop a real sense of pity for the actors involved, they've all seen better days, but then you realize they actually got paid quite a bit of money to do this and you'll lose pity for them just like you've alr...</td>\n",
       "      <td>False</td>\n",
       "    </tr>\n",
       "  </tbody>\n",
       "</table>\n",
       "</div>"
      ],
      "text/plain": [
       "      label  \\\n",
       "0  negative   \n",
       "1  positive   \n",
       "2  negative   \n",
       "3  positive   \n",
       "4  negative   \n",
       "\n",
       "                                                                                                                                                                                                                                                                                                                                                                                                                                                                                                                                                                                                                      text  \\\n",
       "0                                                                                                                                                                                                    Un-bleeping-believable! Meg Ryan doesn't even look her usual pert lovable self in this, which normally makes me forgive her shallow ticky acting schtick. Hard to believe she was the producer on this dog. Plus Kevin Kline: what kind of suicide trip has his career been on? Whoosh... Banzai!!! Finally this was directed by the guy who did Big Chill? Must be a replay of Jonestown - hollywood style. Wooofff!   \n",
       "1  This is a extremely well-made film. The acting, script and camera-work are all first-rate. The music is good, too, though it is mostly early in the film, when things are still relatively cheery. There are no really superstars in the cast, though several faces will be familiar. The entire cast does an excellent job with the script.<br /><br />But it is hard to watch, because there is no good end to a situation like the one presented. It is now fashionable to blame the British for setting Hindus and Muslims against each other, and then cruelly separating them into two countries. There is som...   \n",
       "2  Every once in a long while a movie will come along that will be so awful that I feel compelled to warn people. If I labor all my days and I can save but one soul from watching this movie, how great will be my joy.<br /><br />Where to begin my discussion of pain. For starters, there was a musical montage every five minutes. There was no character development. Every character was a stereotype. We had swearing guy, fat guy who eats donuts, goofy foreign guy, etc. The script felt as if it were being written as the movie was being shot. The production value was so incredibly low that it felt li...   \n",
       "3  Name just says it all. I watched this movie with my dad when it came out and having served in Korea he had great admiration for the man. The disappointing thing about this film is that it only concentrate on a short period of the man's life - interestingly enough the man's entire life would have made such an epic bio-pic that it is staggering to imagine the cost for production.<br /><br />Some posters elude to the flawed characteristics about the man, which are cheap shots. The theme of the movie \"Duty, Honor, Country\" are not just mere words blathered from the lips of a high-brassed offic...   \n",
       "4  This movie succeeds at being one of the most unique movies you've seen. However this comes from the fact that you can't make heads or tails of this mess. It almost seems as a series of challenges set up to determine whether or not you are willing to walk out of the movie and give up the money you just paid. If you don't want to feel slighted you'll sit through this horrible film and develop a real sense of pity for the actors involved, they've all seen better days, but then you realize they actually got paid quite a bit of money to do this and you'll lose pity for them just like you've alr...   \n",
       "\n",
       "   is_valid  \n",
       "0     False  \n",
       "1     False  \n",
       "2     False  \n",
       "3     False  \n",
       "4     False  "
      ]
     },
     "execution_count": 7,
     "metadata": {},
     "output_type": "execute_result"
    }
   ],
   "source": [
    "imdb_sample = pd.read_csv(imdb_sample_path / \"texts.csv\")\n",
    "imdb_sample.head(5)"
   ]
  },
  {
   "cell_type": "code",
   "execution_count": 8,
   "id": "688ce5c5-5ce3-4f0c-823f-9a7ab23f1e40",
   "metadata": {},
   "outputs": [
    {
     "data": {
      "text/html": [
       "<div>\n",
       "<style scoped>\n",
       "    .dataframe tbody tr th:only-of-type {\n",
       "        vertical-align: middle;\n",
       "    }\n",
       "\n",
       "    .dataframe tbody tr th {\n",
       "        vertical-align: top;\n",
       "    }\n",
       "\n",
       "    .dataframe thead th {\n",
       "        text-align: right;\n",
       "    }\n",
       "</style>\n",
       "<table border=\"1\" class=\"dataframe\">\n",
       "  <thead>\n",
       "    <tr style=\"text-align: right;\">\n",
       "      <th></th>\n",
       "      <th>label</th>\n",
       "      <th>text</th>\n",
       "      <th>is_valid</th>\n",
       "    </tr>\n",
       "  </thead>\n",
       "  <tbody>\n",
       "    <tr>\n",
       "      <th>count</th>\n",
       "      <td>1000</td>\n",
       "      <td>1000</td>\n",
       "      <td>1000</td>\n",
       "    </tr>\n",
       "    <tr>\n",
       "      <th>unique</th>\n",
       "      <td>2</td>\n",
       "      <td>1000</td>\n",
       "      <td>2</td>\n",
       "    </tr>\n",
       "    <tr>\n",
       "      <th>top</th>\n",
       "      <td>negative</td>\n",
       "      <td>Un-bleeping-believable! Meg Ryan doesn't even look her usual pert lovable self in this, which normally makes me forgive her shallow ticky acting schtick. Hard to believe she was the producer on this dog. Plus Kevin Kline: what kind of suicide trip has his career been on? Whoosh... Banzai!!! Finally this was directed by the guy who did Big Chill? Must be a replay of Jonestown - hollywood style. Wooofff!</td>\n",
       "      <td>False</td>\n",
       "    </tr>\n",
       "    <tr>\n",
       "      <th>freq</th>\n",
       "      <td>524</td>\n",
       "      <td>1</td>\n",
       "      <td>800</td>\n",
       "    </tr>\n",
       "  </tbody>\n",
       "</table>\n",
       "</div>"
      ],
      "text/plain": [
       "           label  \\\n",
       "count       1000   \n",
       "unique         2   \n",
       "top     negative   \n",
       "freq         524   \n",
       "\n",
       "                                                                                                                                                                                                                                                                                                                                                                                                                         text  \\\n",
       "count                                                                                                                                                                                                                                                                                                                                                                                                                    1000   \n",
       "unique                                                                                                                                                                                                                                                                                                                                                                                                                   1000   \n",
       "top     Un-bleeping-believable! Meg Ryan doesn't even look her usual pert lovable self in this, which normally makes me forgive her shallow ticky acting schtick. Hard to believe she was the producer on this dog. Plus Kevin Kline: what kind of suicide trip has his career been on? Whoosh... Banzai!!! Finally this was directed by the guy who did Big Chill? Must be a replay of Jonestown - hollywood style. Wooofff!   \n",
       "freq                                                                                                                                                                                                                                                                                                                                                                                                                        1   \n",
       "\n",
       "       is_valid  \n",
       "count      1000  \n",
       "unique        2  \n",
       "top       False  \n",
       "freq        800  "
      ]
     },
     "execution_count": 8,
     "metadata": {},
     "output_type": "execute_result"
    }
   ],
   "source": [
    "from fastai.data.load import DataLoader\n",
    "dl = DataLoader(imdb_sample, bs=8)\n",
    "dl.describe()"
   ]
  },
  {
   "cell_type": "markdown",
   "id": "afe942b0-faa3-48b6-a17a-f95963750518",
   "metadata": {},
   "source": [
    "#### Tokenization\n",
    "\n",
    "We are going to use tokenizer provided by Hugging Face `transformers`."
   ]
  },
  {
   "cell_type": "code",
   "execution_count": 9,
   "id": "42672c2e-7135-4cd5-9c5b-6aefc19b9cb1",
   "metadata": {},
   "outputs": [
    {
     "data": {
      "text/plain": [
       "Dataset({\n",
       "    features: ['label', 'text', 'is_valid'],\n",
       "    num_rows: 1000\n",
       "})"
      ]
     },
     "execution_count": 9,
     "metadata": {},
     "output_type": "execute_result"
    }
   ],
   "source": [
    "from datasets import Dataset, DatasetDict\n",
    "ds = Dataset.from_pandas(imdb_sample)\n",
    "ds"
   ]
  },
  {
   "cell_type": "code",
   "execution_count": 12,
   "id": "28653954-b2cc-4b3f-9859-444b40534390",
   "metadata": {},
   "outputs": [
    {
     "name": "stderr",
     "output_type": "stream",
     "text": [
      "Special tokens have been added in the vocabulary, make sure the associated word embeddings are fine-tuned or trained.\n",
      "Special tokens have been added in the vocabulary, make sure the associated word embeddings are fine-tuned or trained.\n"
     ]
    }
   ],
   "source": [
    "from transformers import AutoModelForSequenceClassification, AutoTokenizer\n",
    "tokz = AutoTokenizer.from_pretrained('microsoft/deberta-v3-small')"
   ]
  },
  {
   "cell_type": "code",
   "execution_count": 13,
   "id": "627e99b0-d17f-46fe-8081-c4b6711ce946",
   "metadata": {},
   "outputs": [
    {
     "data": {
      "text/plain": [
       "['▁Good',\n",
       " '▁morning',\n",
       " '▁everybody',\n",
       " '!',\n",
       " '▁My',\n",
       " '▁name',\n",
       " '▁is',\n",
       " '▁FAKE',\n",
       " 'FIRST',\n",
       " 'NAME',\n",
       " '▁O',\n",
       " 'IHS',\n",
       " 'DF',\n",
       " 'LI',\n",
       " 'HA']"
      ]
     },
     "execution_count": 13,
     "metadata": {},
     "output_type": "execute_result"
    }
   ],
   "source": [
    "tokz.tokenize(\"Good morning everybody! My name is FAKEFIRSTNAME OIHSDFLIHA\")"
   ]
  },
  {
   "cell_type": "code",
   "execution_count": 14,
   "id": "bb4b211b-f8ac-43e2-b299-cf82faa6242f",
   "metadata": {},
   "outputs": [
    {
     "data": {
      "application/vnd.jupyter.widget-view+json": {
       "model_id": "",
       "version_major": 2,
       "version_minor": 0
      },
      "text/plain": [
       "Map:   0%|          | 0/1000 [00:00<?, ? examples/s]"
      ]
     },
     "metadata": {},
     "output_type": "display_data"
    },
    {
     "data": {
      "text/plain": [
       "Dataset({\n",
       "    features: ['label', 'text', 'is_valid', 'input_ids', 'token_type_ids', 'attention_mask'],\n",
       "    num_rows: 1000\n",
       "})"
      ]
     },
     "execution_count": 14,
     "metadata": {},
     "output_type": "execute_result"
    }
   ],
   "source": [
    "tok_ds = ds.map(lambda x: tokz(x[\"text\"]), batched=True)\n",
    "tok_ds"
   ]
  },
  {
   "cell_type": "code",
   "execution_count": 15,
   "id": "6f52750f-e6dd-4375-9501-77abac624eb0",
   "metadata": {},
   "outputs": [
    {
     "data": {
      "text/plain": [
       "DatasetDict({\n",
       "    train: Dataset({\n",
       "        features: ['label', 'text', 'is_valid', 'input_ids', 'token_type_ids', 'attention_mask'],\n",
       "        num_rows: 750\n",
       "    })\n",
       "    test: Dataset({\n",
       "        features: ['label', 'text', 'is_valid', 'input_ids', 'token_type_ids', 'attention_mask'],\n",
       "        num_rows: 250\n",
       "    })\n",
       "})"
      ]
     },
     "execution_count": 15,
     "metadata": {},
     "output_type": "execute_result"
    }
   ],
   "source": [
    "dds = tok_ds.train_test_split(0.25)\n",
    "dds"
   ]
  }
 ],
 "metadata": {
  "kernelspec": {
   "display_name": "Python 3 (ipykernel)",
   "language": "python",
   "name": "python3"
  },
  "language_info": {
   "codemirror_mode": {
    "name": "ipython",
    "version": 3
   },
   "file_extension": ".py",
   "mimetype": "text/x-python",
   "name": "python",
   "nbconvert_exporter": "python",
   "pygments_lexer": "ipython3",
   "version": "3.11.4"
  }
 },
 "nbformat": 4,
 "nbformat_minor": 5
}
